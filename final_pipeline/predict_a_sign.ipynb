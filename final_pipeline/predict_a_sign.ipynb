{
 "cells": [
  {
   "cell_type": "code",
   "execution_count": 1,
   "metadata": {},
   "outputs": [],
   "source": [
    "import pickle\n",
    "import cv2\n",
    "import matplotlib.pyplot as plt\n",
    "from skimage import exposure\n",
    "from tensorflow.keras.models import load_model\n",
    "import numpy as np "
   ]
  },
  {
   "cell_type": "code",
   "execution_count": 2,
   "metadata": {},
   "outputs": [],
   "source": [
    "loaded_model = load_model('Trafic_signs_model_final.h5')"
   ]
  },
  {
   "cell_type": "code",
   "execution_count": 3,
   "metadata": {
    "scrolled": true
   },
   "outputs": [
    {
     "name": "stdout",
     "output_type": "stream",
     "text": [
      "{'100_SIGN': 0, '10_SIGN': 1, '110_SIGN': 2, '120_SIGN': 3, '130_SIGN': 4, '15_SIGN': 5, '20_SIGN': 6, '25_SIGN': 7, '30_SIGN': 8, '40_SIGN': 9, '50_SIGN': 10, '5_SIGN': 11, '60_SIGN': 12, '70_SIGN': 13, '80_SIGN': 14, '80_SIGN_END': 15, '90_SIGN': 16, 'ALL_END': 17, 'BUMP': 18, 'CHILDREN': 19, 'CROSSROADS_PRIORITY_RIGHT': 20, 'CROSSROADS_WITH_MINOR': 21, 'CURVES_FIRST_LEFT': 22, 'CURVES_FIRST_RIGHT': 23, 'CURVE_LEFT': 24, 'CURVE_RIGHT': 25, 'CYCLE_PATH': 26, 'CYCLISTS': 27, 'DANGER': 28, 'DOMESTIC_ANIMALS': 29, 'GIVE_WAY': 30, 'GIVE_WAY_TO_ONCOMING': 31, 'GO_LEFT': 32, 'GO_STRAIGHT': 33, 'GO_STRAIGHT_OR_TURN_LEFT': 34, 'GO_STRAIGHT_OR_TURN_RIGHT': 35, 'HEIGHT_LIMIT': 36, 'ICE_OR_SNOW': 37, 'LEVEL_CROSSING_WITH_BARRIERS_AHEAD': 38, 'MISC': 39, 'NO_ENTRY': 40, 'NO_LEFT_TURN': 41, 'NO_OVERTAKING': 42, 'NO_OVERTAKING_END': 43, 'NO_OVERTAKING_HEAVY': 44, 'NO_OVERTAKING_HEAVY_END': 45, 'NO_PARKING': 46, 'NO_PARKING_FROM_1ST_TO_15TH': 47, 'NO_PEDAL_CYCLES': 48, 'NO_RIGHT_TURN': 49, 'NO_STOPPING_NO_STANDING': 50, 'NO_VECHILES': 51, 'NO_VECHILES_HEAVY': 52, 'OTHER': 53, 'PASS_EITHER_SIDE': 54, 'PASS_LEFT_SIDE': 55, 'PASS_RIGHT_SIDE': 56, 'PEDESTRIANS': 57, 'PEDESTRIAN_CROSSING': 58, 'PRIORITY_ROAD': 59, 'ROADWORKS': 60, 'ROAD_NARROWS': 61, 'ROAD_NARROWS_LEFT': 62, 'ROAD_NARROWS_RIGHT': 63, 'ROUNDABOUT': 64, 'SEGREGATED_PEDESTRIAN_AND_CYCLE_PATH': 65, 'SHARED_PEDESTRIAN_AND_CYCLE_PATH': 66, 'SLIPPERY_SURFACE': 67, 'STOP': 68, 'TRAFFICLIGHT': 69, 'TRAFFIC_SIGNALS': 70, 'TURN_LEFT': 71, 'TURN_RIGHT': 72, 'UNEVEN_SURFACE': 73, 'URDBL': 74, 'WEIGHT_LIMIT': 75, 'WIDTH_LIMIT': 76, 'WILD_ANIMALS': 77}\n"
     ]
    }
   ],
   "source": [
    "# Load dictionary for translating predictions\n",
    "a_file = open(\"char_to_int.pkl\", \"rb\")\n",
    "char_to_int = pickle.load(a_file)\n",
    "print(char_to_int)"
   ]
  },
  {
   "cell_type": "code",
   "execution_count": 4,
   "metadata": {},
   "outputs": [],
   "source": [
    "image = cv2.imread('image.jpg')"
   ]
  },
  {
   "cell_type": "code",
   "execution_count": 5,
   "metadata": {
    "scrolled": false
   },
   "outputs": [
    {
     "data": {
      "text/plain": [
       "<matplotlib.image.AxesImage at 0x2ac65ff936a0>"
      ]
     },
     "execution_count": 5,
     "metadata": {},
     "output_type": "execute_result"
    },
    {
     "data": {
      "image/png": "[encoded data removed]",
      "text/plain": [
       "<Figure size 432x288 with 1 Axes>"
      ]
     },
     "metadata": {
      "needs_background": "light"
     },
     "output_type": "display_data"
    }
   ],
   "source": [
    "plt.imshow(image)"
   ]
  },
  {
   "cell_type": "code",
   "execution_count": 6,
   "metadata": {},
   "outputs": [],
   "source": [
    "image = exposure.equalize_adapthist(image, clip_limit=0.1)\n",
    "image = image.reshape((1,50,50,3))"
   ]
  },
  {
   "cell_type": "code",
   "execution_count": 7,
   "metadata": {},
   "outputs": [],
   "source": [
    "def prediction_to_label(model, X_test, char_to_int):\n",
    "    predictions = model.predict(X_test)\n",
    "    predictions = [np.argmax(x) for x in predictions]\n",
    "    int_to_char = {k:v for k,v in zip(char_to_int.values(),char_to_int.keys())}\n",
    "    labels_predicted = [int_to_char[integer] for integer in predictions]\n",
    "    return labels_predicted"
   ]
  },
  {
   "cell_type": "code",
   "execution_count": 8,
   "metadata": {},
   "outputs": [
    {
     "data": {
      "text/plain": [
       "['80_SIGN']"
      ]
     },
     "execution_count": 8,
     "metadata": {},
     "output_type": "execute_result"
    }
   ],
   "source": [
    "prediction_to_label(loaded_model, image,char_to_int)"
   ]
  }
 ],
 "metadata": {
  "kernelspec": {
   "display_name": "venv_example",
   "language": "python",
   "name": "venv_example"
  },
  "language_info": {
   "codemirror_mode": {
    "name": "ipython",
    "version": 3
   },
   "file_extension": ".py",
   "mimetype": "text/x-python",
   "name": "python",
   "nbconvert_exporter": "python",
   "pygments_lexer": "ipython3",
   "version": "3.6.11"
  }
 },
 "nbformat": 4,
 "nbformat_minor": 2
}
